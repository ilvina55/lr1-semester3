{
 "cells": [
  {
   "cell_type": "code",
   "execution_count": 1,
   "id": "3fe4945d",
   "metadata": {},
   "outputs": [
    {
     "name": "stdout",
     "output_type": "stream",
     "text": [
      "Requirement already satisfied: psycopg2 in c:\\users\\ilvin\\anaconda3\\lib\\site-packages (2.9.9)\n"
     ]
    }
   ],
   "source": [
    "!pip install psycopg2"
   ]
  },
  {
   "cell_type": "code",
   "execution_count": 3,
   "id": "daced821",
   "metadata": {},
   "outputs": [],
   "source": [
    "import psycopg2"
   ]
  },
  {
   "cell_type": "code",
   "execution_count": 8,
   "id": "044e7abe",
   "metadata": {},
   "outputs": [
    {
     "name": "stdout",
     "output_type": "stream",
     "text": [
      "('Chamber Italian', 'NC-17')\n"
     ]
    }
   ],
   "source": [
    "with psycopg2.connect(\n",
    " \"dbname=dvdrental user=postgres password=mir03072000\") as conn:\n",
    "    with conn.cursor() as cur:\n",
    "        cur.execute(\"SELECT title, rating FROM public.film\")\n",
    "        print(cur.fetchone())\n",
    "# You can use `cur.fetchmany()`, `cur.fetchall()` \n",
    "#for record in cur:\n",
    "#print(record)\n",
    "conn.commit()"
   ]
  },
  {
   "cell_type": "code",
   "execution_count": 5,
   "id": "646fa101",
   "metadata": {},
   "outputs": [
    {
     "ename": "AttributeError",
     "evalue": "module 'psycopg2' has no attribute 'AsyncConnection'",
     "output_type": "error",
     "traceback": [
      "\u001b[1;31m---------------------------------------------------------------------------\u001b[0m",
      "\u001b[1;31mAttributeError\u001b[0m                            Traceback (most recent call last)",
      "Cell \u001b[1;32mIn[5], line 4\u001b[0m\n\u001b[0;32m      1\u001b[0m \u001b[38;5;28;01mdef\u001b[39;00m \u001b[38;5;21mlog_notice\u001b[39m(diag):\n\u001b[0;32m      2\u001b[0m  \u001b[38;5;28mprint\u001b[39m(\u001b[38;5;124mf\u001b[39m\u001b[38;5;124m\"\u001b[39m\u001b[38;5;124mThe server says: \u001b[39m\u001b[38;5;132;01m{\u001b[39;00mdiag\u001b[38;5;241m.\u001b[39mseverity\u001b[38;5;132;01m}\u001b[39;00m\u001b[38;5;124m\"\u001b[39m\n\u001b[0;32m      3\u001b[0m  \u001b[38;5;124mf\u001b[39m\u001b[38;5;124m\"\u001b[39m\u001b[38;5;124m - \u001b[39m\u001b[38;5;132;01m{\u001b[39;00mdiag\u001b[38;5;241m.\u001b[39mmessage_primary\u001b[38;5;132;01m}\u001b[39;00m\u001b[38;5;124m\"\u001b[39m)\n\u001b[1;32m----> 4\u001b[0m \u001b[38;5;28;01masync\u001b[39;00m \u001b[38;5;28;01mwith\u001b[39;00m \u001b[38;5;28;01mawait\u001b[39;00m psycopg2\u001b[38;5;241m.\u001b[39mAsyncConnection\u001b[38;5;241m.\u001b[39mconnect(\n\u001b[0;32m      5\u001b[0m  \u001b[38;5;124m\"\u001b[39m\u001b[38;5;124mdbname=dvdrental user=postgres password=mir03072000\u001b[39m\u001b[38;5;124m\"\u001b[39m,\n\u001b[0;32m      6\u001b[0m  autocommit\u001b[38;5;241m=\u001b[39m\u001b[38;5;28;01mTrue\u001b[39;00m) \u001b[38;5;28;01mas\u001b[39;00m aconn:\n\u001b[0;32m      7\u001b[0m  aconn\u001b[38;5;241m.\u001b[39madd_notice_handler(log_notice)\n",
      "\u001b[1;31mAttributeError\u001b[0m: module 'psycopg2' has no attribute 'AsyncConnection'"
     ]
    }
   ],
   "source": [
    "def log_notice(diag):\n",
    " print(f\"The server says: {diag.severity}\"\n",
    " f\" - {diag.message_primary}\")\n",
    "async with await psycopg2.AsyncConnection.connect(\n",
    " \"dbname=dvdrental user=postgres password=mir03072000\",\n",
    " autocommit=True) as aconn:\n",
    " aconn.add_notice_handler(log_notice)"
   ]
  },
  {
   "cell_type": "code",
   "execution_count": null,
   "id": "f2426beb",
   "metadata": {},
   "outputs": [],
   "source": []
  }
 ],
 "metadata": {
  "kernelspec": {
   "display_name": "Python 3 (ipykernel)",
   "language": "python",
   "name": "python3"
  },
  "language_info": {
   "codemirror_mode": {
    "name": "ipython",
    "version": 3
   },
   "file_extension": ".py",
   "mimetype": "text/x-python",
   "name": "python",
   "nbconvert_exporter": "python",
   "pygments_lexer": "ipython3",
   "version": "3.11.5"
  }
 },
 "nbformat": 4,
 "nbformat_minor": 5
}
