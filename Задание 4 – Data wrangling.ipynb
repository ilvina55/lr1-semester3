{
 "cells": [
  {
   "cell_type": "code",
   "execution_count": 1,
   "id": "9442a758",
   "metadata": {},
   "outputs": [
    {
     "name": "stdout",
     "output_type": "stream",
     "text": [
      "Requirement already satisfied: scikit-learn in c:\\users\\ilvin\\anaconda3\\lib\\site-packages (1.3.0)\n",
      "Requirement already satisfied: numpy>=1.17.3 in c:\\users\\ilvin\\anaconda3\\lib\\site-packages (from scikit-learn) (1.24.3)\n",
      "Requirement already satisfied: scipy>=1.5.0 in c:\\users\\ilvin\\anaconda3\\lib\\site-packages (from scikit-learn) (1.11.1)\n",
      "Requirement already satisfied: joblib>=1.1.1 in c:\\users\\ilvin\\anaconda3\\lib\\site-packages (from scikit-learn) (1.2.0)\n",
      "Requirement already satisfied: threadpoolctl>=2.0.0 in c:\\users\\ilvin\\anaconda3\\lib\\site-packages (from scikit-learn) (2.2.0)\n",
      "Note: you may need to restart the kernel to use updated packages.\n"
     ]
    }
   ],
   "source": [
    "#4.1\n",
    "pip install scikit-learn\n"
   ]
  },
  {
   "cell_type": "code",
   "execution_count": 2,
   "id": "7a64c53f",
   "metadata": {},
   "outputs": [],
   "source": [
    "import numpy as np\n",
    "from sklearn.datasets import fetch_california_housing\n",
    "from sklearn.datasets import load_diabetes\n",
    "rng = np.random.RandomState(42)\n"
   ]
  },
  {
   "cell_type": "code",
   "execution_count": 3,
   "id": "40a7544b",
   "metadata": {},
   "outputs": [],
   "source": [
    "X_diabetes, y_diabetes = load_diabetes(return_X_y=True)\n",
    "X_california, y_california = fetch_california_housing(\n",
    "                             return_X_y=True)\n",
    "X_california = X_california[:300]\n",
    "y_california = y_california[:300]\n",
    "X_diabetes = X_diabetes[:300]\n",
    "y_diabetes = y_diabetes[:300]"
   ]
  },
  {
   "cell_type": "code",
   "execution_count": 4,
   "id": "864b74ae",
   "metadata": {},
   "outputs": [],
   "source": [
    "def add_missing_values(X_full, y_full):\n",
    "    n_samples, n_features = X_full.shape\n",
    " # Add missing values in 75% of the lines\n",
    "    missing_rate = 0.75\n",
    "    n_missing_samples = int(n_samples * missing_rate)\n",
    "    \n",
    "    missing_samples = np.zeros(n_samples, dtype=bool)\n",
    "    missing_samples[:n_missing_samples] = True\n",
    "   \n",
    "\n",
    "    rng.shuffle(missing_samples)\n",
    "    missing_features = rng.randint(\n",
    "        0, n_features, n_missing_samples)\n",
    "    X_missing = X_full.copy()\n",
    "    X_missing[missing_samples, missing_features] = np.nan\n",
    "    y_missing = y_full.copy()\n",
    "    \n",
    "    return X_missing, y_missing"
   ]
  },
  {
   "cell_type": "code",
   "execution_count": 5,
   "id": "5a02b982",
   "metadata": {},
   "outputs": [],
   "source": [
    "X_miss_california, y_miss_california = add_missing_values(\n",
    "    X_california, y_california)\n",
    "X_miss_diabetes, y_miss_diabetes = add_missing_values(\n",
    "    X_diabetes, y_diabetes)"
   ]
  },
  {
   "cell_type": "code",
   "execution_count": null,
   "id": "5d6bf996",
   "metadata": {},
   "outputs": [],
   "source": [
    "def get_scores_for_imputer(imputer, X_missing, y_missing):\n",
    "    estimator = make_pipeline(imputer, regressor)\n",
    "    impute_scores = cross_val_score(\n",
    "        estimator,\n",
    "        X_missing,\n",
    "        y_missing,\n",
    "        scoring=\"neg_mean_squared_error\",\n",
    "        cv=N_SPLITS\n",
    "    )\n",
    "    return impute_scores"
   ]
  },
  {
   "cell_type": "code",
   "execution_count": 9,
   "id": "6bff74d0",
   "metadata": {},
   "outputs": [],
   "source": [
    "rng = np.random.RandomState(0)\n",
    "\n",
    "from sklearn.ensemble import RandomForestRegressor\n",
    "# To use the experimental IterativeImputer, we need to explicitly ask for it:\n",
    "from sklearn.experimental import enable_iterative_imputer # noqa\n",
    "from sklearn.impute import IterativeImputer, KNNImputer,SimpleImputer\n",
    "from sklearn.model_selection import cross_val_score\n",
    "from sklearn.pipeline import make_pipeline\n",
    "N_SPLITS = 4\n",
    "regressor = RandomForestRegressor(random_state=0)"
   ]
  },
  {
   "cell_type": "code",
   "execution_count": 10,
   "id": "feb1c9da",
   "metadata": {},
   "outputs": [],
   "source": [
    "x_labels = []\n",
    "mses_california = np.zeros(5)\n",
    "stds_california = np.zeros(5)\n",
    "mses_diabetes = np.zeros(5)\n",
    "stds_diabetes = np.zeros(5)\n"
   ]
  },
  {
   "cell_type": "code",
   "execution_count": 11,
   "id": "064f4029",
   "metadata": {},
   "outputs": [],
   "source": [
    "def get_full_score(X_full, y_full):\n",
    "    full_scores = cross_val_score(\n",
    "        regressor,\n",
    "        X_full,\n",
    "        y_full,\n",
    "        scoring=\"neg_mean_squared_error\", cv=N_SPLITS\n",
    "    )\n",
    "    return full_scores.mean(), full_scores.std()\n"
   ]
  },
  {
   "cell_type": "code",
   "execution_count": 12,
   "id": "781cee7e",
   "metadata": {},
   "outputs": [],
   "source": [
    "mses_california[0], stds_california[0] = get_full_score(\n",
    "    X_california, y_california)\n",
    "mses_diabetes[0], stds_diabetes[0] = get_full_score(\n",
    "    X_diabetes, y_diabetes)"
   ]
  },
  {
   "cell_type": "code",
   "execution_count": null,
   "id": "8261365f",
   "metadata": {},
   "outputs": [],
   "source": []
  }
 ],
 "metadata": {
  "kernelspec": {
   "display_name": "Python 3 (ipykernel)",
   "language": "python",
   "name": "python3"
  },
  "language_info": {
   "codemirror_mode": {
    "name": "ipython",
    "version": 3
   },
   "file_extension": ".py",
   "mimetype": "text/x-python",
   "name": "python",
   "nbconvert_exporter": "python",
   "pygments_lexer": "ipython3",
   "version": "3.11.5"
  }
 },
 "nbformat": 4,
 "nbformat_minor": 5
}
