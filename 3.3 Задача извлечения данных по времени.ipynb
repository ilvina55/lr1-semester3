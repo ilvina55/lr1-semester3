{
 "cells": [
  {
   "cell_type": "code",
   "execution_count": 1,
   "id": "3fe4945d",
   "metadata": {},
   "outputs": [],
   "source": [
    "from configparser import ConfigParser\n",
    "import psycopg2\n",
    "import requests\n",
    "from typing import Dict, List"
   ]
  },
  {
   "cell_type": "code",
   "execution_count": 2,
   "id": "daced821",
   "metadata": {},
   "outputs": [],
   "source": [
    "def load_connection_info(\n",
    "    ini_filename: str\n",
    ") -> Dict[str, str]:\n",
    "    parser = ConfigParser()\n",
    "    parser.read(ini_filename)\n",
    "# Create a dictionary of the variables stored under the \"postgresql\" section of the .ini\n",
    "    conn_info = {param[0]: param[1] for param in\n",
    "parser.items(\"postgresql\")}\n",
    "    return conn_info\n",
    "\n"
   ]
  },
  {
   "cell_type": "code",
   "execution_count": 3,
   "id": "044e7abe",
   "metadata": {},
   "outputs": [],
   "source": [
    "def create_db(\n",
    "    conn_info: Dict[str, str],\n",
    ") -> None:\n",
    "    psql_connection_string = \"user=\"\\\n",
    "    f\"{conn_info['user']} password={conn_info['password']}\"\n",
    "    conn = psycopg2.connect(psql_connection_string)\n",
    "    cur = conn.cursor()\n",
    "    conn.autocommit = True\n",
    "    sql_query = f\"CREATE DATABASE {conn_info['database']}\"\n",
    "    try:\n",
    "        cur.execute(sql_query)\n",
    "    except Exception as e:\n",
    "        print(f\"{type(e).__name__}: {e}\")\n",
    "        print(f\"Query: {cur.query}\")\n",
    "        cur.close()\n",
    "    else:\n",
    "            conn.autocommit = False"
   ]
  },
  {
   "cell_type": "code",
   "execution_count": 26,
   "id": "646fa101",
   "metadata": {},
   "outputs": [],
   "source": [
    "def create_table(\n",
    "    sql_query: str,\n",
    "    conn: psycopg2.extensions.connection,\n",
    "    cur: psycopg2.extensions.cursor\n",
    ") -> None:\n",
    "    try:\n",
    " # Execute the table creation query\n",
    "        cur.execute(sql_query)\n",
    "    except Exception as e:\n",
    "        print(f\"{type(e).__name__}: {e}\")\n",
    "        print(f\"Query: {cur.query}\")\n",
    "        conn.rollback()\n",
    "        cur.close()\n",
    "    else:\n",
    "        conn.commit()"
   ]
  },
  {
   "cell_type": "code",
   "execution_count": 4,
   "id": "7d59b047",
   "metadata": {},
   "outputs": [
    {
     "name": "stdout",
     "output_type": "stream",
     "text": [
      "DuplicateDatabase: ОШИБКА:  база данных \"weather\" уже существует\n",
      "\n",
      "Query: b'CREATE DATABASE weather'\n"
     ]
    }
   ],
   "source": [
    "conn_info = load_connection_info(\"db.ini\")\n",
    "create_db(conn_info)\n",
    "\n",
    "\n"
   ]
  },
  {
   "cell_type": "code",
   "execution_count": 5,
   "id": "89012c1e",
   "metadata": {},
   "outputs": [],
   "source": [
    "connection = psycopg2.connect(**conn_info)\n",
    "cursor = connection.cursor()"
   ]
  },
  {
   "cell_type": "code",
   "execution_count": null,
   "id": "7b359101",
   "metadata": {},
   "outputs": [],
   "source": [
    "\n",
    "\n",
    "            \n",
    "            \n"
   ]
  },
  {
   "cell_type": "code",
   "execution_count": 6,
   "id": "4041c06a",
   "metadata": {},
   "outputs": [
    {
     "ename": "NameError",
     "evalue": "name 'create_table' is not defined",
     "output_type": "error",
     "traceback": [
      "\u001b[1;31m---------------------------------------------------------------------------\u001b[0m",
      "\u001b[1;31mNameError\u001b[0m                                 Traceback (most recent call last)",
      "Cell \u001b[1;32mIn[6], line 15\u001b[0m\n\u001b[0;32m      1\u001b[0m location_sql \u001b[38;5;241m=\u001b[39m \u001b[38;5;124m\"\"\"\u001b[39m\n\u001b[0;32m      2\u001b[0m \u001b[38;5;124m    CREATE TABLE IF NOT EXISTS location (\u001b[39m\n\u001b[0;32m      3\u001b[0m \u001b[38;5;124m         id SERIAL PRIMARY KEY,\u001b[39m\n\u001b[1;32m   (...)\u001b[0m\n\u001b[0;32m     13\u001b[0m \u001b[38;5;124m         );\u001b[39m\n\u001b[0;32m     14\u001b[0m \u001b[38;5;124m\"\"\"\u001b[39m\n\u001b[1;32m---> 15\u001b[0m create_table(location_sql, connection, cursor)\n",
      "\u001b[1;31mNameError\u001b[0m: name 'create_table' is not defined"
     ]
    }
   ],
   "source": [
    "location_sql = \"\"\"\n",
    "    CREATE TABLE IF NOT EXISTS location (\n",
    "         id SERIAL PRIMARY KEY,\n",
    "         name VARCHAR(200) UNIQUE NOT NULL,\n",
    "         region VARCHAR(200) NOT NULL,\n",
    "         country VARCHAR(200) NOT NULL,\n",
    "         tz_id VARCHAR(200) NOT NULL,\n",
    "         local_time TIMESTAMP NOT NULL,\n",
    "         last_update TIMESTAMP NOT NULL DEFAULT now(),\n",
    "         local_time_epoch NUMERIC(10) NOT NULL,\n",
    "         lat NUMERIC(5, 2) NOT NULL,\n",
    "         lon NUMERIC(5, 2) NOT NULL\n",
    "         );\n",
    "\"\"\"\n",
    "create_table(location_sql, connection, cursor)"
   ]
  },
  {
   "cell_type": "code",
   "execution_count": 46,
   "id": "735667ff",
   "metadata": {},
   "outputs": [
    {
     "name": "stdout",
     "output_type": "stream",
     "text": [
      "InterfaceError: cursor already closed\n",
      "Query: b'\\n    CREATE TABLE IF NOT EXISTS current (\\n         id SERIAL PRIMARY KEY,\\n         condition_id SERIAL REFERENCES condition(id) MATCH SIMPLE\\nON UPDATE CASCADE ON DELETE RESTRICT,\\n         wind_dir VARCHAR(3) NOT NULL,\\n         last_update TIMESTAMP NOT NULL DEFAULT now(),\\n         data_published_epoch NUMERIC(10) NOT NULL,\\n         data_published TIMESTAMP NOT NULL,\\n         temp_c NUMERIC(10,2) NOT NULL,\\n         temp_f NUMERIC(10,2) NOT NULL,\\n         wind_mph NUMERIC(10,2) NOT NULL,\\n         wind_kph NUMERIC(10,2) NOT NULL,\\n         wind_degree NUMERIC(10) NOT NULL,\\n         pressure_mb NUMERIC(10, 2) NOT NULL,\\n         pressure_in NUMERIC(10, 2) NOT NULL,\\n         precip_mm NUMERIC(10, 2) NOT NULL,\\n         precip_in NUMERIC(10, 2) NOT NULL,\\n        69\\n         humidity NUMERIC(10, 2) NOT NULL,\\n         feelslike_c NUMERIC(10, 2) NOT NULL,\\n         feelslike_f NUMERIC(10, 2) NOT NULL,\\n         vis_km NUMERIC(10, 2) NOT NULL,\\n         vis_miles NUMERIC(10, 2) NOT NULL,\\n         uv NUMERIC(10, 2) NOT NULL,\\n         gust_mph NUMERIC(10, 2) NOT NULL,\\n         gust_kph NUMERIC(10, 2) NOT NULL,\\n         is_day BOOLEAN NOT NULL,\\n         cloud BOOLEAN NOT NULL\\n         );\\n'\n"
     ]
    }
   ],
   "source": [
    "# Create the \"condition\" tablet\n",
    "condition_sql = \"\"\"\n",
    "    CREATE TABLE IF NOT EXISTS condition (\n",
    "         id SERIAL PRIMARY KEY,\n",
    "         icon VARCHAR(200) NOT NULL,\n",
    "         text VARCHAR(50) NOT NULL,\n",
    "         last_update TIMESTAMP NOT NULL DEFAULT now(),\n",
    "         code NUMERIC(10) NOT NULL\n",
    "         );\n",
    "\"\"\"\n",
    "create_table(condition_sql, connection, cursor)"
   ]
  },
  {
   "cell_type": "code",
   "execution_count": null,
   "id": "e7f2ca14",
   "metadata": {},
   "outputs": [],
   "source": []
  },
  {
   "cell_type": "code",
   "execution_count": 7,
   "id": "56fa0b74",
   "metadata": {},
   "outputs": [
    {
     "ename": "NameError",
     "evalue": "name 'create_table' is not defined",
     "output_type": "error",
     "traceback": [
      "\u001b[1;31m---------------------------------------------------------------------------\u001b[0m",
      "\u001b[1;31mNameError\u001b[0m                                 Traceback (most recent call last)",
      "Cell \u001b[1;32mIn[7], line 32\u001b[0m\n\u001b[0;32m      1\u001b[0m current_sql \u001b[38;5;241m=\u001b[39m \u001b[38;5;124m\"\"\"\u001b[39m\n\u001b[0;32m      2\u001b[0m \u001b[38;5;124m    CREATE TABLE IF NOT EXISTS current (\u001b[39m\n\u001b[0;32m      3\u001b[0m \u001b[38;5;124m        id SERIAL PRIMARY KEY,\u001b[39m\n\u001b[1;32m   (...)\u001b[0m\n\u001b[0;32m     30\u001b[0m \n\u001b[0;32m     31\u001b[0m \u001b[38;5;124m\"\"\"\u001b[39m\n\u001b[1;32m---> 32\u001b[0m create_table(current_sql, connection, cursor)\n",
      "\u001b[1;31mNameError\u001b[0m: name 'create_table' is not defined"
     ]
    }
   ],
   "source": [
    "current_sql = \"\"\"\n",
    "    CREATE TABLE IF NOT EXISTS current (\n",
    "        id SERIAL PRIMARY KEY,\n",
    "        condition_id SERIAL REFERENCES condition(id) MATCH SIMPLE\n",
    "ON UPDATE CASCADE ON DELETE RESTRICT,\n",
    "    wind_dir VARCHAR(3) NOT NULL,\n",
    "    last_update TIMESTAMP NOT NULL DEFAULT now(),\n",
    "    data_published_epoch NUMERIC(10) NOT NULL,\n",
    "    data_published TIMESTAMP NOT NULL,\n",
    "    temp_c NUMERIC(10,2) NOT NULL,\n",
    "    temp_f NUMERIC(10,2) NOT NULL,\n",
    "    wind_mph NUMERIC(10,2) NOT NULL,\n",
    "    wind_kph NUMERIC(10,2) NOT NULL,\n",
    "    wind_degree NUMERIC(10) NOT NULL,\n",
    "    pressure_mb NUMERIC(10, 2) NOT NULL,\n",
    "    pressure_in NUMERIC(10, 2) NOT NULL,\n",
    "    precip_mm NUMERIC(10, 2) NOT NULL,\n",
    "    precip_in NUMERIC(10, 2) NOT NULL,\n",
    "    humidity NUMERIC(10, 2) NOT NULL,\n",
    "    feelslike_c NUMERIC(10, 2) NOT NULL,\n",
    "    feelslike_f NUMERIC(10, 2) NOT NULL,\n",
    "    vis_km NUMERIC(10, 2) NOT NULL,\n",
    "    vis_miles NUMERIC(10, 2) NOT NULL,\n",
    "    uv NUMERIC(10, 2) NOT NULL,\n",
    "    gust_mph NUMERIC(10, 2) NOT NULL,\n",
    "    gust_kph NUMERIC(10, 2) NOT NULL,\n",
    "    is_day BOOLEAN NOT NULL,\n",
    "    cloud BOOLEAN NOT NULL\n",
    " );\n",
    "\n",
    "\"\"\"\n",
    "create_table(current_sql, connection, cursor)"
   ]
  },
  {
   "cell_type": "code",
   "execution_count": 64,
   "id": "7a8dbe5f",
   "metadata": {},
   "outputs": [
    {
     "name": "stdout",
     "output_type": "stream",
     "text": [
      "InterfaceError: cursor already closed\n",
      "Query: b'\\n    CREATE TABLE IF NOT EXISTS weather (\\n        id SERIAL PRIMARY KEY,\\n        location_id SERIAL REFERENCES location(id) MATCH SIMPLE ON\\nUPDATE CASCADE ON DELETE RESTRICT,\\n        current_id SERIAL REFERENCES location(id) MATCH SIMPLE ON\\nUPDATE CASCADE ON DELETE RESTRICT,\\n        last_update TIMESTAMP NOT NULL DEFAULT now()\\n );\\n'\n"
     ]
    },
    {
     "ename": "InterfaceError",
     "evalue": "connection already closed",
     "output_type": "error",
     "traceback": [
      "\u001b[1;31m---------------------------------------------------------------------------\u001b[0m",
      "\u001b[1;31mInterfaceError\u001b[0m                            Traceback (most recent call last)",
      "Cell \u001b[1;32mIn[26], line 8\u001b[0m, in \u001b[0;36mcreate_table\u001b[1;34m(sql_query, conn, cur)\u001b[0m\n\u001b[0;32m      6\u001b[0m    \u001b[38;5;28;01mtry\u001b[39;00m:\n\u001b[0;32m      7\u001b[0m \u001b[38;5;66;03m# Execute the table creation query\u001b[39;00m\n\u001b[1;32m----> 8\u001b[0m        cur\u001b[38;5;241m.\u001b[39mexecute(sql_query)\n\u001b[0;32m      9\u001b[0m    \u001b[38;5;28;01mexcept\u001b[39;00m \u001b[38;5;167;01mException\u001b[39;00m \u001b[38;5;28;01mas\u001b[39;00m e:\n",
      "\u001b[1;31mInterfaceError\u001b[0m: cursor already closed",
      "\nDuring handling of the above exception, another exception occurred:\n",
      "\u001b[1;31mInterfaceError\u001b[0m                            Traceback (most recent call last)",
      "Cell \u001b[1;32mIn[64], line 12\u001b[0m\n\u001b[0;32m      1\u001b[0m \u001b[38;5;66;03m# Create the \"weather\" table\u001b[39;00m\n\u001b[0;32m      2\u001b[0m weather_sql \u001b[38;5;241m=\u001b[39m \u001b[38;5;124m\"\"\"\u001b[39m\n\u001b[0;32m      3\u001b[0m \u001b[38;5;124m    CREATE TABLE IF NOT EXISTS weather (\u001b[39m\n\u001b[0;32m      4\u001b[0m \u001b[38;5;124m        id SERIAL PRIMARY KEY,\u001b[39m\n\u001b[1;32m   (...)\u001b[0m\n\u001b[0;32m     10\u001b[0m \u001b[38;5;124m );\u001b[39m\n\u001b[0;32m     11\u001b[0m \u001b[38;5;124m\"\"\"\u001b[39m\n\u001b[1;32m---> 12\u001b[0m create_table(weather_sql, connection, cursor)\n",
      "Cell \u001b[1;32mIn[26], line 12\u001b[0m, in \u001b[0;36mcreate_table\u001b[1;34m(sql_query, conn, cur)\u001b[0m\n\u001b[0;32m     10\u001b[0m     \u001b[38;5;28mprint\u001b[39m(\u001b[38;5;124mf\u001b[39m\u001b[38;5;124m\"\u001b[39m\u001b[38;5;132;01m{\u001b[39;00m\u001b[38;5;28mtype\u001b[39m(e)\u001b[38;5;241m.\u001b[39m\u001b[38;5;18m__name__\u001b[39m\u001b[38;5;132;01m}\u001b[39;00m\u001b[38;5;124m: \u001b[39m\u001b[38;5;132;01m{\u001b[39;00me\u001b[38;5;132;01m}\u001b[39;00m\u001b[38;5;124m\"\u001b[39m)\n\u001b[0;32m     11\u001b[0m     \u001b[38;5;28mprint\u001b[39m(\u001b[38;5;124mf\u001b[39m\u001b[38;5;124m\"\u001b[39m\u001b[38;5;124mQuery: \u001b[39m\u001b[38;5;132;01m{\u001b[39;00mcur\u001b[38;5;241m.\u001b[39mquery\u001b[38;5;132;01m}\u001b[39;00m\u001b[38;5;124m\"\u001b[39m)\n\u001b[1;32m---> 12\u001b[0m     conn\u001b[38;5;241m.\u001b[39mrollback()\n\u001b[0;32m     13\u001b[0m     cur\u001b[38;5;241m.\u001b[39mclose()\n\u001b[0;32m     14\u001b[0m \u001b[38;5;28;01melse\u001b[39;00m:\n",
      "\u001b[1;31mInterfaceError\u001b[0m: connection already closed"
     ]
    }
   ],
   "source": [
    "# Create the \"weather\" table\n",
    "weather_sql = \"\"\"\n",
    "    CREATE TABLE IF NOT EXISTS weather (\n",
    "        id SERIAL PRIMARY KEY,\n",
    "        location_id SERIAL REFERENCES location(id) MATCH SIMPLE ON\n",
    "UPDATE CASCADE ON DELETE RESTRICT,\n",
    "        current_id SERIAL REFERENCES location(id) MATCH SIMPLE ON\n",
    "UPDATE CASCADE ON DELETE RESTRICT,\n",
    "        last_update TIMESTAMP NOT NULL DEFAULT now()\n",
    " );\n",
    "\"\"\"\n",
    "create_table(weather_sql, connection, cursor)\n"
   ]
  },
  {
   "cell_type": "code",
   "execution_count": 8,
   "id": "a68f6200",
   "metadata": {},
   "outputs": [],
   "source": [
    "connection.close()\n",
    "cursor.close()\n"
   ]
  },
  {
   "cell_type": "code",
   "execution_count": 9,
   "id": "3d0e6895",
   "metadata": {},
   "outputs": [],
   "source": [
    "from threading import Timer"
   ]
  },
  {
   "cell_type": "code",
   "execution_count": 10,
   "id": "6f81cb15",
   "metadata": {},
   "outputs": [],
   "source": [
    "def weather_callback():\n",
    "    payload = {\"key\":\"38b986140543415595f134926231710\",\n",
    "                \"q\":\"Paris\"}\n",
    "    r = requests.get(\n",
    "         \"http://api.weatherapi.com/v1/current.json\",\n",
    "         params=payload)\n",
    "    data = r.json()\n",
    "    print(\"Temperature in Paris is\"\n",
    "          f\"{data['current']['temp_c']} C\"\n",
    "          f\" / {data['current']['temp_f']} F\")\n",
    "    return data"
   ]
  },
  {
   "cell_type": "code",
   "execution_count": 11,
   "id": "99bce5d1",
   "metadata": {},
   "outputs": [],
   "source": [
    "t = Timer(interval=30, function=weather_callback)\n",
    "t.daemon = True"
   ]
  },
  {
   "cell_type": "code",
   "execution_count": null,
   "id": "b3e7c1c0",
   "metadata": {},
   "outputs": [],
   "source": [
    "import time\n",
    "try:\n",
    "    t = Timer(interval=30, function=weather_callback)\n",
    "    t.daemon = True\n",
    "    t.start()\n",
    "    while True:\n",
    "        time.sleep(0.1)\n",
    "except KeyboardInterrupt:\n",
    "    t.cancel()"
   ]
  },
  {
   "cell_type": "code",
   "execution_count": null,
   "id": "b32304dd",
   "metadata": {},
   "outputs": [],
   "source": []
  },
  {
   "cell_type": "code",
   "execution_count": null,
   "id": "294ceb7a",
   "metadata": {},
   "outputs": [],
   "source": []
  },
  {
   "cell_type": "code",
   "execution_count": null,
   "id": "265b7f80",
   "metadata": {},
   "outputs": [],
   "source": []
  },
  {
   "cell_type": "code",
   "execution_count": null,
   "id": "9dac4e74",
   "metadata": {},
   "outputs": [],
   "source": [
    "[weatherapi]\n",
    "key=38b986140543415595f134926231710\n",
    "q=Paris\n"
   ]
  },
  {
   "cell_type": "code",
   "execution_count": null,
   "id": "792c50f4",
   "metadata": {},
   "outputs": [],
   "source": [
    "\n"
   ]
  },
  {
   "cell_type": "code",
   "execution_count": null,
   "id": "8c0750c7",
   "metadata": {},
   "outputs": [],
   "source": []
  },
  {
   "cell_type": "code",
   "execution_count": null,
   "id": "30c429d3",
   "metadata": {},
   "outputs": [],
   "source": []
  },
  {
   "cell_type": "code",
   "execution_count": null,
   "id": "c5988118",
   "metadata": {},
   "outputs": [],
   "source": []
  }
 ],
 "metadata": {
  "kernelspec": {
   "display_name": "Python 3 (ipykernel)",
   "language": "python",
   "name": "python3"
  },
  "language_info": {
   "codemirror_mode": {
    "name": "ipython",
    "version": 3
   },
   "file_extension": ".py",
   "mimetype": "text/x-python",
   "name": "python",
   "nbconvert_exporter": "python",
   "pygments_lexer": "ipython3",
   "version": "3.11.5"
  }
 },
 "nbformat": 4,
 "nbformat_minor": 5
}
