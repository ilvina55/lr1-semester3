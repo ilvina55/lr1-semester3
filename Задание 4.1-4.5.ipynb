{
 "cells": [
  {
   "cell_type": "code",
   "execution_count": 1,
   "id": "9f620d12",
   "metadata": {},
   "outputs": [
    {
     "name": "stdout",
     "output_type": "stream",
     "text": [
      "Requirement already satisfied: scikit-learn in c:\\users\\ilvin\\anaconda3\\lib\\site-packages (1.3.0)\n",
      "Requirement already satisfied: numpy>=1.17.3 in c:\\users\\ilvin\\anaconda3\\lib\\site-packages (from scikit-learn) (1.24.3)\n",
      "Requirement already satisfied: scipy>=1.5.0 in c:\\users\\ilvin\\anaconda3\\lib\\site-packages (from scikit-learn) (1.11.1)\n",
      "Requirement already satisfied: joblib>=1.1.1 in c:\\users\\ilvin\\anaconda3\\lib\\site-packages (from scikit-learn) (1.2.0)\n",
      "Requirement already satisfied: threadpoolctl>=2.0.0 in c:\\users\\ilvin\\anaconda3\\lib\\site-packages (from scikit-learn) (2.2.0)\n",
      "Note: you may need to restart the kernel to use updated packages.\n"
     ]
    }
   ],
   "source": [
    "#4.0\n",
    "pip install scikit-learn\n"
   ]
  },
  {
   "cell_type": "code",
   "execution_count": 2,
   "id": "8fb9a637",
   "metadata": {},
   "outputs": [],
   "source": [
    "import numpy as np\n",
    "from sklearn.datasets import fetch_california_housing\n",
    "from sklearn.datasets import load_diabetes\n",
    "rng = np.random.RandomState(42)\n"
   ]
  },
  {
   "cell_type": "code",
   "execution_count": 3,
   "id": "45a5c649",
   "metadata": {},
   "outputs": [],
   "source": [
    "X_diabetes, y_diabetes = load_diabetes(return_X_y=True)\n",
    "X_california, y_california = fetch_california_housing(\n",
    "                             return_X_y=True)\n",
    "X_california = X_california[:300]\n",
    "y_california = y_california[:300]\n",
    "X_diabetes = X_diabetes[:300]\n",
    "y_diabetes = y_diabetes[:300]"
   ]
  },
  {
   "cell_type": "code",
   "execution_count": 66,
   "id": "217cb7a5",
   "metadata": {},
   "outputs": [],
   "source": [
    "def add_missing_values(X_full, y_full):\n",
    "    n_samples, n_features = X_full.shape\n",
    " # Add missing values in 75% of the lines\n",
    "    missing_rate = 0.75\n",
    "    n_missing_samples = int(n_samples * missing_rate)\n",
    "    \n",
    "    missing_samples = np.zeros(n_samples, dtype=bool)\n",
    "    missing_samples[:n_missing_samples] = True\n",
    "   \n",
    "\n",
    "    rng.shuffle(missing_samples)\n",
    "    missing_features = rng.randint(\n",
    "        0, n_features, n_missing_samples)\n",
    "    X_missing = X_full.copy()\n",
    "    X_missing[missing_samples, missing_features] = np.nan\n",
    "    y_missing = y_full.copy()\n",
    "    \n",
    "    return X_missing, y_missing"
   ]
  },
  {
   "cell_type": "code",
   "execution_count": 67,
   "id": "050347a7",
   "metadata": {},
   "outputs": [],
   "source": [
    "X_miss_california, y_miss_california = add_missing_values(\n",
    "    X_california, y_california)\n",
    "X_miss_diabetes, y_miss_diabetes = add_missing_values(\n",
    "    X_diabetes, y_diabetes)"
   ]
  },
  {
   "cell_type": "code",
   "execution_count": 18,
   "id": "51ef8b47",
   "metadata": {},
   "outputs": [],
   "source": [
    "def get_scores_for_imputer(imputer, X_missing, y_missing):\n",
    "    estimator = make_pipeline(imputer, regressor)\n",
    "    impute_scores = cross_val_score(\n",
    "        estimator,\n",
    "        X_missing,\n",
    "        y_missing,\n",
    "        scoring=\"neg_mean_squared_error\",\n",
    "        cv=N_SPLITS\n",
    "    )\n",
    "    return impute_scores"
   ]
  },
  {
   "cell_type": "code",
   "execution_count": 19,
   "id": "0ccf77ef",
   "metadata": {},
   "outputs": [],
   "source": [
    "rng = np.random.RandomState(0)\n",
    "\n",
    "from sklearn.ensemble import RandomForestRegressor\n",
    "# To use the experimental IterativeImputer, we need to explicitly ask for it:\n",
    "from sklearn.experimental import enable_iterative_imputer # noqa\n",
    "from sklearn.impute import IterativeImputer, KNNImputer,SimpleImputer\n",
    "from sklearn.model_selection import cross_val_score\n",
    "from sklearn.pipeline import make_pipeline\n",
    "N_SPLITS = 4\n",
    "regressor = RandomForestRegressor(random_state=0)"
   ]
  },
  {
   "cell_type": "code",
   "execution_count": 70,
   "id": "f19efe24",
   "metadata": {},
   "outputs": [],
   "source": [
    "x_labels = []\n",
    "mses_california = np.zeros(5)\n",
    "stds_california = np.zeros(5)\n",
    "mses_diabetes = np.zeros(5)\n",
    "stds_diabetes = np.zeros(5)\n"
   ]
  },
  {
   "cell_type": "code",
   "execution_count": 53,
   "id": "ae835df5",
   "metadata": {},
   "outputs": [],
   "source": [
    "def get_full_score(X_full, y_full):\n",
    "    full_scores = cross_val_score(\n",
    "        regressor,\n",
    "        X_full,\n",
    "        y_full,\n",
    "        scoring=\"neg_mean_squared_error\", cv=N_SPLITS\n",
    "    )\n",
    "    return full_scores.mean(), full_scores.std()\n"
   ]
  },
  {
   "cell_type": "code",
   "execution_count": 54,
   "id": "b423b2d6",
   "metadata": {},
   "outputs": [],
   "source": [
    "mses_california[0], stds_california[0] = get_full_score(\n",
    "    X_california, y_california)\n",
    "mses_diabetes[0], stds_diabetes[0] = get_full_score(\n",
    "    X_diabetes, y_diabetes)"
   ]
  },
  {
   "cell_type": "code",
   "execution_count": 55,
   "id": "349db497",
   "metadata": {},
   "outputs": [],
   "source": [
    "x_labels.append('original data')"
   ]
  },
  {
   "cell_type": "code",
   "execution_count": 68,
   "id": "b8a13e67",
   "metadata": {},
   "outputs": [],
   "source": [
    "#4.1\n",
    "def get_impute_zero_score(X_missing, y_missing):\n",
    "    imputer = SimpleImputer(\n",
    "        missing_values=np.nan,\n",
    "        add_indicator=True,\n",
    "        strategy=\"constant\",\n",
    "        fill_value=0)\n",
    "    zero_impute_scores = get_scores_for_imputer(imputer, X_missing, y_missing)\n",
    "    return zero_impute_scores.mean(), zero_impute_scores.std()"
   ]
  },
  {
   "cell_type": "code",
   "execution_count": 74,
   "id": "1fa00b86",
   "metadata": {},
   "outputs": [],
   "source": [
    "mses_california[1], stds_california[1] = get_impute_zero_score(\n",
    "    X_miss_california, y_miss_california\n",
    ")\n",
    "mses_diabetes[1], stds_diabetes[1] = get_impute_zero_score(\n",
    "    X_miss_diabetes, y_miss_diabetes\n",
    ")\n",
    "x_labels.append(\"Zero imputation\")"
   ]
  },
  {
   "cell_type": "code",
   "execution_count": 57,
   "id": "0d278ab6",
   "metadata": {},
   "outputs": [],
   "source": [
    "#4.2\n",
    "def get_impute_knn_score(X_missing, y_missing):\n",
    "    imputer = KNNImputer(\n",
    "        missing_values=np.nan, add_indicator=True)\n",
    "    knn_impute_scores = get_scores_for_imputer(\n",
    "        imputer, X_missing, y_missing)\n",
    "    return knn_impute_scores.mean(), knn_impute_scores.std()"
   ]
  },
  {
   "cell_type": "code",
   "execution_count": 73,
   "id": "7e3e4b92",
   "metadata": {},
   "outputs": [],
   "source": [
    "mses_california[2], stds_california[2] = get_impute_knn_score(\n",
    "    X_miss_california, y_miss_california)\n",
    "mses_diabetes[2], stds_diabetes[2] = get_impute_knn_score(\n",
    "    X_miss_diabetes, y_miss_diabetes)\n",
    "x_labels.append(\"KNN Imputation\")"
   ]
  },
  {
   "cell_type": "code",
   "execution_count": 71,
   "id": "fc13b5bb",
   "metadata": {},
   "outputs": [],
   "source": [
    "#4.3\n",
    "def get_impute_mean(X_missing, y_missing):\n",
    "    imputer = SimpleImputer(\n",
    "        missing_values=np.nan,\n",
    "        strategy=\"mean\", add_indicator=True)\n",
    "    mean_impute_scores = get_scores_for_imputer(\n",
    "        imputer,\n",
    "        X_missing, y_missing)\n",
    "    return mean_impute_scores.mean(), mean_impute_scores.std()"
   ]
  },
  {
   "cell_type": "code",
   "execution_count": 72,
   "id": "f7691666",
   "metadata": {},
   "outputs": [],
   "source": [
    "mses_california[3], stds_california[3] = get_impute_mean(\n",
    "    X_miss_california, y_miss_california)\n",
    "mses_diabetes[3], stds_diabetes[3] = get_impute_mean(\n",
    "    X_miss_diabetes, y_miss_diabetes)\n",
    "x_labels.append(\"Mean Imputation\")"
   ]
  },
  {
   "cell_type": "code",
   "execution_count": null,
   "id": "66d7c52e",
   "metadata": {},
   "outputs": [],
   "source": [
    "#4.4\n",
    "def get_impute_iterative(X_missing, y_missing):\n",
    "    imputer = IterativeImputer(\n",
    "        missing_values=np.nan,\n",
    "        add_indicator=True,\n",
    "        random_state=0,\n",
    "        n_nearest_features=3,\n",
    "        max_iter=1,\n",
    "        sample_posterior=True,\n",
    "    )\n",
    "    iterative_impute_scores = get_scores_for_imputer(\n",
    "        imputer, X_missing, y_missing)\n",
    "    return iterative_impute_scores.mean(\n",
    "    ), iterative_impute_scores.std()"
   ]
  },
  {
   "cell_type": "code",
   "execution_count": 75,
   "id": "6555ba8e",
   "metadata": {},
   "outputs": [],
   "source": [
    "\n",
    "mses_california[4], stds_california[4] = get_impute_iterative(\n",
    "    X_miss_california, y_miss_california)\n",
    "mses_diabetes[4], stds_diabetes[4] = get_impute_iterative(\n",
    "    X_miss_diabetes, y_miss_diabetes)\n",
    "x_labels.append(\"Iterative Imputation\")"
   ]
  },
  {
   "cell_type": "code",
   "execution_count": null,
   "id": "80279d35",
   "metadata": {},
   "outputs": [],
   "source": [
    "#4.5 Отображение результатов"
   ]
  },
  {
   "cell_type": "code",
   "execution_count": 76,
   "id": "a0070293",
   "metadata": {},
   "outputs": [],
   "source": [
    "mses_diabetes = mses_diabetes * -1\n",
    "mses_california = mses_california * -1"
   ]
  },
  {
   "cell_type": "code",
   "execution_count": 77,
   "id": "a70897cb",
   "metadata": {},
   "outputs": [],
   "source": [
    "import matplotlib.pyplot as plt\n",
    "n_bars = len(mses_diabetes)\n",
    "xval = np.arange(n_bars)\n",
    "colors = [\"r\", \"g\", \"b\", \"orange\", \"black\"]"
   ]
  },
  {
   "cell_type": "code",
   "execution_count": 78,
   "id": "a5d03af3",
   "metadata": {},
   "outputs": [
    {
     "ename": "ValueError",
     "evalue": "The number of FixedLocator locations (5), usually from a call to set_ticks, does not match the number of labels (4).",
     "output_type": "error",
     "traceback": [
      "\u001b[1;31m---------------------------------------------------------------------------\u001b[0m",
      "\u001b[1;31mValueError\u001b[0m                                Traceback (most recent call last)",
      "Cell \u001b[1;32mIn[78], line 19\u001b[0m\n\u001b[0;32m     17\u001b[0m ax1\u001b[38;5;241m.\u001b[39mset_xlabel(\u001b[38;5;124m\"\u001b[39m\u001b[38;5;124mMSE\u001b[39m\u001b[38;5;124m\"\u001b[39m)\n\u001b[0;32m     18\u001b[0m ax1\u001b[38;5;241m.\u001b[39minvert_yaxis()\n\u001b[1;32m---> 19\u001b[0m ax1\u001b[38;5;241m.\u001b[39mset_yticklabels(x_labels)\n",
      "File \u001b[1;32m~\\anaconda3\\Lib\\site-packages\\matplotlib\\axes\\_base.py:74\u001b[0m, in \u001b[0;36m_axis_method_wrapper.__set_name__.<locals>.wrapper\u001b[1;34m(self, *args, **kwargs)\u001b[0m\n\u001b[0;32m     73\u001b[0m \u001b[38;5;28;01mdef\u001b[39;00m \u001b[38;5;21mwrapper\u001b[39m(\u001b[38;5;28mself\u001b[39m, \u001b[38;5;241m*\u001b[39margs, \u001b[38;5;241m*\u001b[39m\u001b[38;5;241m*\u001b[39mkwargs):\n\u001b[1;32m---> 74\u001b[0m     \u001b[38;5;28;01mreturn\u001b[39;00m get_method(\u001b[38;5;28mself\u001b[39m)(\u001b[38;5;241m*\u001b[39margs, \u001b[38;5;241m*\u001b[39m\u001b[38;5;241m*\u001b[39mkwargs)\n",
      "File \u001b[1;32m~\\anaconda3\\Lib\\site-packages\\matplotlib\\_api\\deprecation.py:297\u001b[0m, in \u001b[0;36mrename_parameter.<locals>.wrapper\u001b[1;34m(*args, **kwargs)\u001b[0m\n\u001b[0;32m    292\u001b[0m     warn_deprecated(\n\u001b[0;32m    293\u001b[0m         since, message\u001b[38;5;241m=\u001b[39m\u001b[38;5;124mf\u001b[39m\u001b[38;5;124m\"\u001b[39m\u001b[38;5;124mThe \u001b[39m\u001b[38;5;132;01m{\u001b[39;00mold\u001b[38;5;132;01m!r}\u001b[39;00m\u001b[38;5;124m parameter of \u001b[39m\u001b[38;5;132;01m{\u001b[39;00mfunc\u001b[38;5;241m.\u001b[39m\u001b[38;5;18m__name__\u001b[39m\u001b[38;5;132;01m}\u001b[39;00m\u001b[38;5;124m() \u001b[39m\u001b[38;5;124m\"\u001b[39m\n\u001b[0;32m    294\u001b[0m         \u001b[38;5;124mf\u001b[39m\u001b[38;5;124m\"\u001b[39m\u001b[38;5;124mhas been renamed \u001b[39m\u001b[38;5;132;01m{\u001b[39;00mnew\u001b[38;5;132;01m!r}\u001b[39;00m\u001b[38;5;124m since Matplotlib \u001b[39m\u001b[38;5;132;01m{\u001b[39;00msince\u001b[38;5;132;01m}\u001b[39;00m\u001b[38;5;124m; support \u001b[39m\u001b[38;5;124m\"\u001b[39m\n\u001b[0;32m    295\u001b[0m         \u001b[38;5;124mf\u001b[39m\u001b[38;5;124m\"\u001b[39m\u001b[38;5;124mfor the old name will be dropped %(removal)s.\u001b[39m\u001b[38;5;124m\"\u001b[39m)\n\u001b[0;32m    296\u001b[0m     kwargs[new] \u001b[38;5;241m=\u001b[39m kwargs\u001b[38;5;241m.\u001b[39mpop(old)\n\u001b[1;32m--> 297\u001b[0m \u001b[38;5;28;01mreturn\u001b[39;00m func(\u001b[38;5;241m*\u001b[39margs, \u001b[38;5;241m*\u001b[39m\u001b[38;5;241m*\u001b[39mkwargs)\n",
      "File \u001b[1;32m~\\anaconda3\\Lib\\site-packages\\matplotlib\\axis.py:1969\u001b[0m, in \u001b[0;36mAxis.set_ticklabels\u001b[1;34m(self, labels, minor, fontdict, **kwargs)\u001b[0m\n\u001b[0;32m   1965\u001b[0m \u001b[38;5;28;01mif\u001b[39;00m \u001b[38;5;28misinstance\u001b[39m(locator, mticker\u001b[38;5;241m.\u001b[39mFixedLocator):\n\u001b[0;32m   1966\u001b[0m     \u001b[38;5;66;03m# Passing [] as a list of labels is often used as a way to\u001b[39;00m\n\u001b[0;32m   1967\u001b[0m     \u001b[38;5;66;03m# remove all tick labels, so only error for > 0 labels\u001b[39;00m\n\u001b[0;32m   1968\u001b[0m     \u001b[38;5;28;01mif\u001b[39;00m \u001b[38;5;28mlen\u001b[39m(locator\u001b[38;5;241m.\u001b[39mlocs) \u001b[38;5;241m!=\u001b[39m \u001b[38;5;28mlen\u001b[39m(labels) \u001b[38;5;129;01mand\u001b[39;00m \u001b[38;5;28mlen\u001b[39m(labels) \u001b[38;5;241m!=\u001b[39m \u001b[38;5;241m0\u001b[39m:\n\u001b[1;32m-> 1969\u001b[0m         \u001b[38;5;28;01mraise\u001b[39;00m \u001b[38;5;167;01mValueError\u001b[39;00m(\n\u001b[0;32m   1970\u001b[0m             \u001b[38;5;124m\"\u001b[39m\u001b[38;5;124mThe number of FixedLocator locations\u001b[39m\u001b[38;5;124m\"\u001b[39m\n\u001b[0;32m   1971\u001b[0m             \u001b[38;5;124mf\u001b[39m\u001b[38;5;124m\"\u001b[39m\u001b[38;5;124m (\u001b[39m\u001b[38;5;132;01m{\u001b[39;00m\u001b[38;5;28mlen\u001b[39m(locator\u001b[38;5;241m.\u001b[39mlocs)\u001b[38;5;132;01m}\u001b[39;00m\u001b[38;5;124m), usually from a call to\u001b[39m\u001b[38;5;124m\"\u001b[39m\n\u001b[0;32m   1972\u001b[0m             \u001b[38;5;124m\"\u001b[39m\u001b[38;5;124m set_ticks, does not match\u001b[39m\u001b[38;5;124m\"\u001b[39m\n\u001b[0;32m   1973\u001b[0m             \u001b[38;5;124mf\u001b[39m\u001b[38;5;124m\"\u001b[39m\u001b[38;5;124m the number of labels (\u001b[39m\u001b[38;5;132;01m{\u001b[39;00m\u001b[38;5;28mlen\u001b[39m(labels)\u001b[38;5;132;01m}\u001b[39;00m\u001b[38;5;124m).\u001b[39m\u001b[38;5;124m\"\u001b[39m)\n\u001b[0;32m   1974\u001b[0m     tickd \u001b[38;5;241m=\u001b[39m {loc: lab \u001b[38;5;28;01mfor\u001b[39;00m loc, lab \u001b[38;5;129;01min\u001b[39;00m \u001b[38;5;28mzip\u001b[39m(locator\u001b[38;5;241m.\u001b[39mlocs, labels)}\n\u001b[0;32m   1975\u001b[0m     func \u001b[38;5;241m=\u001b[39m functools\u001b[38;5;241m.\u001b[39mpartial(\u001b[38;5;28mself\u001b[39m\u001b[38;5;241m.\u001b[39m_format_with_dict, tickd)\n",
      "\u001b[1;31mValueError\u001b[0m: The number of FixedLocator locations (5), usually from a call to set_ticks, does not match the number of labels (4)."
     ]
    },
    {
     "data": {
      "image/png": "[encoded data removed]",
      "text/plain": [
       "<Figure size 1200x600 with 1 Axes>"
      ]
     },
     "metadata": {},
     "output_type": "display_data"
    }
   ],
   "source": [
    "# plot diabetes results\n",
    "plt.figure(figsize=(12, 6))\n",
    "ax1 = plt.subplot(121)\n",
    "for j in xval:\n",
    "    ax1.barh(\n",
    "        j,\n",
    "        mses_diabetes[j],\n",
    "        xerr=stds_diabetes[j],\n",
    "        color=colors[j],\n",
    "        alpha=0.6,\n",
    "        align=\"center\")\n",
    "ax1.set_title(\"Imputation Techniques with Diabetes Data\")\n",
    "ax1.set_xlim(\n",
    "    left=np.min(mses_diabetes) * 0.9,\n",
    "    right=np.max(mses_diabetes) * 1.1)\n",
    "ax1.set_yticks(xval)\n",
    "ax1.set_xlabel(\"MSE\")\n",
    "ax1.invert_yaxis()\n",
    "ax1.set_yticklabels(x_labels)"
   ]
  },
  {
   "cell_type": "code",
   "execution_count": null,
   "id": "af677898",
   "metadata": {},
   "outputs": [],
   "source": [
    "# plot california dataset results\n",
    "ax2 = plt.subplot(122)\n",
    "for j in xval:\n",
    "    ax2.barh(\n",
    "        j,\n",
    "        mses_california[j],\n",
    "        xerr=stds_california[j],\n",
    "        color=colors[j],\n",
    "        alpha=0.6,\n",
    "        align=\"center\")\n",
    "    \n",
    "ax2.set_title(\"Imputation Techniques with California Data\")\n",
    "ax2.set_yticks(xval)\n",
    "ax2.set_xlabel(\"MSE\")\n",
    "ax2.invert_yaxis()\n",
    "ax2.set_yticklabels([\"\"] * n_bars)\n",
    "plt.show()"
   ]
  },
  {
   "cell_type": "code",
   "execution_count": 35,
   "id": "d9a29664",
   "metadata": {},
   "outputs": [],
   "source": []
  },
  {
   "cell_type": "code",
   "execution_count": null,
   "id": "3d9b9c74",
   "metadata": {},
   "outputs": [],
   "source": []
  }
 ],
 "metadata": {
  "kernelspec": {
   "display_name": "Python 3 (ipykernel)",
   "language": "python",
   "name": "python3"
  },
  "language_info": {
   "codemirror_mode": {
    "name": "ipython",
    "version": 3
   },
   "file_extension": ".py",
   "mimetype": "text/x-python",
   "name": "python",
   "nbconvert_exporter": "python",
   "pygments_lexer": "ipython3",
   "version": "3.11.5"
  }
 },
 "nbformat": 4,
 "nbformat_minor": 5
}
